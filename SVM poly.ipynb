{
 "cells": [
  {
   "cell_type": "code",
   "execution_count": 4,
   "id": "fb3b0152",
   "metadata": {},
   "outputs": [],
   "source": [
    "import os\n",
    "import cv2\n",
    "from sklearn.preprocessing import LabelEncoder\n",
    "from skimage.feature import hog\n",
    "import numpy as np\n",
    "from imblearn.over_sampling import SMOTE\n",
    "from sklearn.svm import SVC\n",
    "from sklearn.preprocessing import StandardScaler\n",
    "from sklearn.metrics import accuracy_score, precision_score, recall_score, f1_score\n",
    "from sklearn.metrics import confusion_matrix\n",
    "from sklearn.metrics import roc_auc_score\n",
    "import seaborn as sns\n",
    "import matplotlib.pyplot as plt"
   ]
  },
  {
   "cell_type": "code",
   "execution_count": 5,
   "id": "f33a7020",
   "metadata": {},
   "outputs": [],
   "source": [
    "# Set up the paths to the input directories\n",
    "train_dir = \"C:/Users/Dell/University/Machine learning/FaceSplittednew/train\"\n",
    "test_dir =  \"C:/Users/Dell/University/Machine learning/FaceSplittednew/test\"\n",
    "\n",
    "# Set up the image dimensions\n",
    "img_height = 224\n",
    "img_width = 224\n",
    "\n",
    "\n",
    "# Define a function to preprocess the images\n",
    "def preprocess_images(data_dir):\n",
    "    X = []\n",
    "    y = []\n",
    "    \n",
    "    for class_name in os.listdir(data_dir):\n",
    "        class_dir = os.path.join(data_dir, class_name)\n",
    "        if os.path.isdir(class_dir):\n",
    "            for file_name in os.listdir(class_dir):\n",
    "                if file_name.endswith('.jpg'):\n",
    "                    img_path = os.path.join(class_dir, file_name)\n",
    "                    img = cv2.imread(img_path)\n",
    "                    img = cv2.resize(img, (img_height, img_width))\n",
    "                    X.append(img)\n",
    "                    y.append(class_name)\n",
    "                    \n",
    "    X = np.array(X)\n",
    "    y = np.array(y)\n",
    "    \n",
    "    # Normalize the data using mean and standard deviation and we applied the normalization before the oversamling to prevent data leakage\n",
    "    scaler = StandardScaler()\n",
    "    X = scaler.fit_transform(X.reshape(X.shape[0], -1))\n",
    "    X = X.reshape(-1, img_height, img_width, 3)\n",
    "    \n",
    "    # Apply SMOTE to balance the classes\n",
    "    smote = SMOTE(random_state=42)\n",
    "    X_resampled, y_resampled = smote.fit_resample(X.reshape(X.shape[0], -1), y)\n",
    "    X_resampled = X_resampled.reshape(-1, img_height, img_width, 3)\n",
    "    \n",
    "   \n",
    "    \n",
    "    \n",
    "    # Perform label encoding on the target variable (labels)\n",
    "    label_encoder = LabelEncoder()\n",
    "    y_resampled = label_encoder.fit_transform(y_resampled)\n",
    "    \n",
    "    return X_resampled, y_resampled\n",
    "    \n",
    "\n",
    "\n"
   ]
  },
  {
   "cell_type": "code",
   "execution_count": 6,
   "id": "d9103460",
   "metadata": {},
   "outputs": [],
   "source": [
    "# Preprocess the training data\n",
    "train_X, train_y = preprocess_images(train_dir)\n",
    "\n",
    "# Preprocess the testing data\n",
    "test_X, test_y = preprocess_images(test_dir)"
   ]
  },
  {
   "cell_type": "code",
   "execution_count": 7,
   "id": "47073ff3",
   "metadata": {},
   "outputs": [
    {
     "name": "stdout",
     "output_type": "stream",
     "text": [
      "[0 1]\n",
      "[0 1]\n"
     ]
    }
   ],
   "source": [
    "print(np.unique(train_y))\n",
    "print(np.unique(test_y))"
   ]
  },
  {
   "cell_type": "code",
   "execution_count": null,
   "id": "c09ae10f",
   "metadata": {},
   "outputs": [],
   "source": [
    "#print(label_encoder.classes_)\n",
    "#train_X.reshape(1346, -1)\n",
    "#test_X.reshape(506, -1)"
   ]
  },
  {
   "cell_type": "code",
   "execution_count": 8,
   "id": "07748664",
   "metadata": {},
   "outputs": [],
   "source": [
    "# Flatten each image into a 1-dimensional array of features\n",
    "train_X_flat = np.array([img.flatten() for img in train_X])\n",
    "test_X_flat = np.array([img.flatten() for img in test_X])\n",
    "\n",
    "\n"
   ]
  },
  {
   "cell_type": "code",
   "execution_count": 9,
   "id": "c813f090",
   "metadata": {},
   "outputs": [
    {
     "data": {
      "text/plain": [
       "(432, 150528)"
      ]
     },
     "execution_count": 9,
     "metadata": {},
     "output_type": "execute_result"
    }
   ],
   "source": [
    "test_X_flat.shape"
   ]
  },
  {
   "cell_type": "code",
   "execution_count": null,
   "id": "a7c50a57",
   "metadata": {},
   "outputs": [],
   "source": [
    "# from sklearn.model_selection import GridSearchCV\n",
    "# param_grid = {'C': [0.1, 1, 10, 100]}\n",
    "# svm_model = SVC()\n",
    "\n",
    "# # Perform grid search with cross-validation\n",
    "# grid_search = GridSearchCV(svm_model, param_grid, cv=5)  # cv=5 for 5-fold cross-validation\n",
    "# grid_search.fit(train_X_flat, train_y)\n",
    "\n",
    "# # Get the best C value and corresponding performance\n",
    "# best_c = grid_search.best_params_['C']\n",
    "# best_score = grid_search.best_score_\n",
    "\n",
    "# print(\"Best C:\", best_c)\n",
    "# print(\"Best score:\", best_score)\n"
   ]
  },
  {
   "cell_type": "code",
   "execution_count": null,
   "id": "ce986537",
   "metadata": {},
   "outputs": [],
   "source": [
    "# # Define the range of degree values to evaluate\n",
    "# param_grid = {'degree': [2, 3, 4, 5]}\n",
    "\n",
    "# # Create an SVM model with the polynomial kernel\n",
    "# svm_model = SVC(kernel='poly')\n",
    "\n",
    "# # Perform grid search with cross-validation\n",
    "# grid_search = GridSearchCV(svm_model, param_grid, cv=5)  # cv=5 for 5-fold cross-validation\n",
    "# grid_search.fit(train_X_flat,  train_y)\n",
    "\n",
    "# # Get the best degree value and corresponding performance\n",
    "# best_degree = grid_search.best_params_['degree']\n",
    "# best_score = grid_search.best_score_\n",
    "\n",
    "# print(\"Best degree:\", best_degree)\n",
    "# print(\"Best score:\", best_score)"
   ]
  },
  {
   "cell_type": "code",
   "execution_count": null,
   "id": "1438d450",
   "metadata": {},
   "outputs": [],
   "source": [
    "param_grid = {'coef0': [0.0, 0.5, 1.0,2.0,3.0,4.0,5.0]}\n",
    "\n",
    "# Create an SVM model with the polynomial kernel\n",
    "svm_model = SVC(kernel='poly')\n",
    "\n",
    "# Perform grid search with cross-validation\n",
    "grid_search = GridSearchCV(svm_model, param_grid, cv=5)  # cv=5 for 5-fold cross-validation\n",
    "grid_search.fit(train_X_flat,  train_y)\n",
    "\n",
    "# Get the best coef0 value and corresponding performance\n",
    "best_coef0 = grid_search.best_params_['coef0']\n",
    "best_score = grid_search.best_score_\n",
    "\n",
    "print(\"Best coef0:\", best_coef0)\n",
    "print(\"Best score:\", best_score)"
   ]
  },
  {
   "cell_type": "code",
   "execution_count": null,
   "id": "09e5f5fa",
   "metadata": {},
   "outputs": [],
   "source": [
    "gamma_values = [0.1, 0.01, 0.001]\n",
    "\n",
    "# Create an SVM model with the RBF kernel\n",
    "svm_model = SVC(kernel='rbf')\n",
    "\n",
    "# Set up the parameter grid\n",
    "param_grid = {'gamma': gamma_values}\n",
    "\n",
    "# Perform grid search with cross-validation\n",
    "grid_search = GridSearchCV(svm_model, param_grid, cv=5)  # cv=5 for 5-fold cross-validation\n",
    "grid_search.fit(train_X_flat, train_y)\n",
    "\n",
    "# Get the best gamma value and corresponding performance\n",
    "best_gamma = grid_search.best_params_['gamma']\n",
    "best_score = grid_search.best_score_\n",
    "\n",
    "\n",
    "\n",
    "print(\"Best gamma:\", best_gamma)\n",
    "print(\"Best score:\", best_score)\n"
   ]
  },
  {
   "cell_type": "code",
   "execution_count": 10,
   "id": "ff0ef3a1",
   "metadata": {},
   "outputs": [
    {
     "name": "stdout",
     "output_type": "stream",
     "text": [
      "Accuracy: 0.579\n",
      "Recall: 0.574\n",
      "Precision: 0.579\n",
      "F1_score: 0.577\n"
     ]
    }
   ],
   "source": [
    "#SVM with poly and best degree and best c and best coef\n",
    "svm_model= SVC(C=1, kernel='poly', degree=3, coef0=6, probability=True,random_state=42)\n",
    "\n",
    "#svm with rbf with best c  and best gamma\n",
    "#svm_model= SVC(C=1, kernel='rbf', gamma=0.1, probability=True,random_state=42)\n",
    "\n",
    "#svm with sigmoid with best chosen c and best coef\n",
    "#svm_model= SVC(C=1, kernel='sigmoid', degree=2, coef0=6, probability=True,random_state=42)\n",
    "\n",
    "\n",
    "#svm with linear with best c\n",
    "#svn_mode SVC(C=1,kernel='linear',random_state=42)\n",
    "svm_model.fit(train_X_flat, train_y)\n",
    "\n",
    "# Predict labels for the preprocessed testing data\n",
    "pred_y = svm_model.predict(test_X_flat)\n",
    "\n",
    "# Evaluate the performance of the classifier\n",
    "acc = accuracy_score(test_y, pred_y)\n",
    "rec = recall_score(test_y, pred_y)\n",
    "prec = precision_score(test_y, pred_y)\n",
    "f1 = f1_score(test_y, pred_y)\n",
    "\n",
    "print(\"Accuracy: {:.3f}\".format(acc))\n",
    "print(\"Recall: {:.3f}\".format(rec))\n",
    "print(\"Precision: {:.3f}\".format(prec))\n",
    "print(\"F1_score: {:.3f}\".format(f1))"
   ]
  },
  {
   "cell_type": "code",
   "execution_count": 11,
   "id": "e4c3190d",
   "metadata": {},
   "outputs": [],
   "source": [
    "threshold = 0.5\n",
    "\n",
    "y_pred_classes = np.where(pred_y >= threshold, 1, 0)\n",
    "\n",
    "conf_mat = confusion_matrix(test_y, y_pred_classes)"
   ]
  },
  {
   "cell_type": "code",
   "execution_count": 12,
   "id": "9f57d23b",
   "metadata": {},
   "outputs": [
    {
     "data": {
      "image/png": "[encoded data removed]",
      "text/plain": [
       "<Figure size 640x480 with 2 Axes>"
      ]
     },
     "metadata": {},
     "output_type": "display_data"
    }
   ],
   "source": [
    "# Compute the confusion matrix\n",
    "cm = confusion_matrix(test_y, y_pred_classes)\n",
    "\n",
    "# Create a heatmap of the confusion matrix\n",
    "sns.heatmap(cm, annot=True, cmap=\"Blues\",fmt='g')\n",
    "\n",
    "# Add labels and title to the plot\n",
    "plt.xlabel(\"Predicted Labels\")\n",
    "plt.ylabel(\"True Labels\")\n",
    "plt.title(\"zero vs one \")\n",
    "\n",
    "# Show the plot\n",
    "plt.show()"
   ]
  },
  {
   "cell_type": "code",
   "execution_count": 13,
   "id": "0b2c8eb7",
   "metadata": {},
   "outputs": [
    {
     "name": "stdout",
     "output_type": "stream",
     "text": [
      "AUC score: 0.58\n"
     ]
    }
   ],
   "source": [
    "auc_score = roc_auc_score(test_y, y_pred_classes)\n",
    "\n",
    "\n",
    "print(\"AUC score: {:.2f}\".format(auc_score))"
   ]
  },
  {
   "cell_type": "code",
   "execution_count": 14,
   "id": "2c89e694",
   "metadata": {},
   "outputs": [
    {
     "name": "stdout",
     "output_type": "stream",
     "text": [
      "432\n",
      "432\n"
     ]
    }
   ],
   "source": [
    "print(len(test_y)) \n",
    "print(len(pred_y))"
   ]
  },
  {
   "cell_type": "code",
   "execution_count": null,
   "id": "fe5dc273",
   "metadata": {},
   "outputs": [],
   "source": [
    "from sklearn.datasets import load_iris\n",
    "from joblib import dump"
   ]
  },
  {
   "cell_type": "code",
   "execution_count": null,
   "id": "2e7bb2bc",
   "metadata": {},
   "outputs": [],
   "source": [
    "dump(svm, 'svm_model.joblib')"
   ]
  },
  {
   "cell_type": "code",
   "execution_count": null,
   "id": "c31573ac",
   "metadata": {},
   "outputs": [],
   "source": [
    "from joblib import load\n",
    "loaded_svm_model = load('svm_model.joblib')\n",
    "\n",
    "\n"
   ]
  }
 ],
 "metadata": {
  "kernelspec": {
   "display_name": "Python 3 (ipykernel)",
   "language": "python",
   "name": "python3"
  },
  "language_info": {
   "codemirror_mode": {
    "name": "ipython",
    "version": 3
   },
   "file_extension": ".py",
   "mimetype": "text/x-python",
   "name": "python",
   "nbconvert_exporter": "python",
   "pygments_lexer": "ipython3",
   "version": "3.9.13"
  }
 },
 "nbformat": 4,
 "nbformat_minor": 5
}
