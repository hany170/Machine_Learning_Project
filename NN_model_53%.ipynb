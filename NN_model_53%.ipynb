{
 "cells": [
  {
   "cell_type": "code",
   "execution_count": 241,
   "id": "b67c4294",
   "metadata": {},
   "outputs": [],
   "source": [
    "import os\n",
    "import cv2\n",
    "import tensorflow as tf\n",
    "import keras\n",
    "from tensorflow.keras.models import Sequential, Model\n",
    "from tensorflow.keras.layers import Dense, Dropout, Input, MaxPooling2D, Flatten,Conv2D,Reshape, Conv1D\n",
    "from tensorflow.keras.optimizers import Adam\n",
    "from tensorflow.keras.applications.resnet50 import ResNet50\n",
    "from tensorflow.keras.callbacks import ModelCheckpoint\n",
    "from tensorflow.keras.applications.mobilenet_v2 import MobileNetV2\n",
    "from tensorflow.keras.applications.mobilenet_v2 import preprocess_input as inc_res_preprocess_input\n",
    "from sklearn.preprocessing import LabelEncoder\n",
    "from sklearn.preprocessing import LabelBinarizer\n",
    "import numpy as np\n",
    "from imblearn.over_sampling import SMOTE\n",
    "from sklearn.svm import SVC\n",
    "from sklearn.preprocessing import StandardScaler\n",
    "from sklearn.metrics import accuracy_score, precision_score, recall_score, f1_score\n",
    "import numpy as np\n",
    "import matplotlib.pyplot as plt\n",
    "import tensorflow as tf\n",
    "from tensorflow import keras\n",
    "from tensorflow.keras import layers, models\n",
    "from tensorflow.keras import losses\n",
    "from tensorflow.keras.metrics import Recall, Precision\n",
    "import pandas as pd\n",
    "from sklearn.model_selection import train_test_split\n",
    "from sklearn.metrics import confusion_matrix\n",
    "import shutil\n",
    "from tensorflow.keras.applications import EfficientNetB0\n",
    "import sys\n",
    "from sklearn.metrics import confusion_matrix\n",
    "import seaborn as sns\n",
    "from tensorflow.keras.callbacks import EarlyStopping\n",
    "from tensorflow.keras.preprocessing.image import load_img\n",
    "from tensorflow.keras.preprocessing.image import img_to_array\n",
    "from tensorflow.keras.applications.mobilenet_v2 import  preprocess_input\n",
    "from keras.utils import to_categorical\n",
    "import os\n",
    "import cv2 as cv\n",
    "from sklearn.metrics import roc_auc_score"
   ]
  },
  {
   "cell_type": "code",
   "execution_count": 242,
   "id": "d370bb80",
   "metadata": {},
   "outputs": [],
   "source": [
    "train_dir = \"C:/Users/Asus/University/Machine learning/FaceSplittednew/train\"\n",
    "test_dir =  \"C:/Users/Asus/University/Machine learning/FaceSplittednew/test\"\n",
    "# Set up the image dimensions\n",
    "img_height = 224\n",
    "img_width = 224\n",
    "\n",
    " \n",
    "\n",
    "# Define a function to preprocess the images\n",
    "def preprocess_images(data_dir):\n",
    "    X = []\n",
    "    y = []\n",
    "    \n",
    "    for class_name in os.listdir(data_dir):\n",
    "        class_dir = os.path.join(data_dir, class_name)\n",
    "        if os.path.isdir(class_dir):\n",
    "            for file_name in os.listdir(class_dir):\n",
    "                if file_name.endswith('.jpg'):\n",
    "                    img_path = os.path.join(class_dir, file_name)\n",
    "                    img = cv2.imread(img_path)\n",
    "                    img = cv2.resize(img, (img_height, img_width))\n",
    "                    img= img_to_array(img)\n",
    "                    img=preprocess_input(img)\n",
    "                    X.append(img)\n",
    "                    y.append(class_name)\n",
    "                    \n",
    "    X = np.array(X)\n",
    "    y = np.array(y)\n",
    "    \n",
    "    # Normalize the data using mean and standard deviation and we applied the normalization before the oversamling to prevent data leakage\n",
    "    scaler = StandardScaler()\n",
    "    X = scaler.fit_transform(X.reshape(X.shape[0], -1))\n",
    "    X = X.reshape(-1, img_height, img_width, 3)\n",
    "    \n",
    "   \n",
    "    \n",
    "    \n",
    "    # Perform label encoding on the target variable (labels)\n",
    "#     label_encoder = LabelEncoder()\n",
    "#     y_resampled = label_encoder.fit_transform(y_resampled)\n",
    "    \n",
    "    return X, y\n",
    "\n"
   ]
  },
  {
   "cell_type": "code",
   "execution_count": 243,
   "id": "383cfe7f",
   "metadata": {},
   "outputs": [],
   "source": [
    "# Preprocess the training data\n",
    "train_X, train_y = preprocess_images(train_dir)\n",
    "\n",
    "# Preprocess the testing data\n",
    "test_X, test_y = preprocess_images(test_dir)"
   ]
  },
  {
   "cell_type": "code",
   "execution_count": null,
   "id": "e678ea32",
   "metadata": {},
   "outputs": [],
   "source": []
  },
  {
   "cell_type": "code",
   "execution_count": 244,
   "id": "64ebf86f",
   "metadata": {},
   "outputs": [],
   "source": [
    "label_encoder = LabelEncoder()\n",
    "train_y_encoded = label_encoder.fit_transform(train_y)\n",
    "test_y_encoded = label_encoder.transform(test_y)"
   ]
  },
  {
   "cell_type": "code",
   "execution_count": 245,
   "id": "497cdf5f",
   "metadata": {},
   "outputs": [
    {
     "data": {
      "text/plain": [
       "(1633,)"
      ]
     },
     "execution_count": 245,
     "metadata": {},
     "output_type": "execute_result"
    }
   ],
   "source": [
    "train_y_encoded.shape"
   ]
  },
  {
   "cell_type": "code",
   "execution_count": 246,
   "id": "15b92fbe",
   "metadata": {},
   "outputs": [
    {
     "name": "stdout",
     "output_type": "stream",
     "text": [
      "real:865,fake:768\n"
     ]
    }
   ],
   "source": [
    "ct=0\n",
    "ct1=0\n",
    "for i in range(len(train_y_encoded)):\n",
    "    if train_y_encoded[i]==1:\n",
    "        ct1+=1#real\n",
    "    else:\n",
    "        ct+=1#fake\n",
    "print(f\"real:{ct1},fake:{ct}\")"
   ]
  },
  {
   "cell_type": "code",
   "execution_count": 247,
   "id": "0020387f",
   "metadata": {},
   "outputs": [],
   "source": [
    "augImg=[]\n",
    "augLabel=[]\n",
    "for i in range(97):        \n",
    "    flipped_img = cv.flip(train_X[i],0)\n",
    "    augImg.append(flipped_img)\n",
    "    augLabel.append(train_y_encoded[i])\n",
    "new_images = np.array(augImg)\n",
    "train_X= np.concatenate([train_X,new_images])\n",
    "train_y_encoded= np.concatenate([train_y_encoded,augLabel])"
   ]
  },
  {
   "cell_type": "code",
   "execution_count": 248,
   "id": "f00693f1",
   "metadata": {},
   "outputs": [
    {
     "data": {
      "text/plain": [
       "(1730,)"
      ]
     },
     "execution_count": 248,
     "metadata": {},
     "output_type": "execute_result"
    }
   ],
   "source": [
    "train_y_encoded.shape"
   ]
  },
  {
   "cell_type": "code",
   "execution_count": 249,
   "id": "e1401a26",
   "metadata": {},
   "outputs": [
    {
     "name": "stdout",
     "output_type": "stream",
     "text": [
      "real:865,fake:865\n"
     ]
    }
   ],
   "source": [
    "ct=0\n",
    "ct1=0\n",
    "for i in range(len(train_y_encoded)):\n",
    "    if train_y_encoded[i]==1:\n",
    "        ct1+=1#real\n",
    "    else:\n",
    "        ct+=1#fake\n",
    "print(f\"real:{ct1},fake:{ct}\")"
   ]
  },
  {
   "cell_type": "code",
   "execution_count": 250,
   "id": "31d295bc",
   "metadata": {},
   "outputs": [
    {
     "name": "stdout",
     "output_type": "stream",
     "text": [
      "the trainX shape is: (1730, 224, 224, 3)\n",
      "the testx shape is (408, 224, 224, 3)\n",
      "the ytrain shape is: (1730,)\n",
      "the ytest shape is: (408,)\n"
     ]
    }
   ],
   "source": [
    "print(\"the trainX shape is:\",train_X.shape)\n",
    "print(\"the testx shape is\",test_X.shape)\n",
    "print(\"the ytrain shape is:\",train_y_encoded.shape)\n",
    "print(\"the ytest shape is:\",test_y_encoded.shape)"
   ]
  },
  {
   "cell_type": "code",
   "execution_count": 251,
   "id": "29158607",
   "metadata": {},
   "outputs": [
    {
     "name": "stdout",
     "output_type": "stream",
     "text": [
      "real:216,fake:192\n"
     ]
    }
   ],
   "source": [
    "ct=0\n",
    "ct1=0\n",
    "for i in range(len(test_y_encoded)):\n",
    "    if test_y_encoded[i]==1:\n",
    "        ct1+=1\n",
    "    else:\n",
    "        ct+=1\n",
    "print(f\"real:{ct1},fake:{ct}\")"
   ]
  },
  {
   "cell_type": "code",
   "execution_count": 252,
   "id": "e1679372",
   "metadata": {},
   "outputs": [],
   "source": [
    "##########################################################################################\n",
    "##########################################################################################"
   ]
  },
  {
   "cell_type": "code",
   "execution_count": 273,
   "id": "c4f32cdc",
   "metadata": {},
   "outputs": [],
   "source": [
    "#flattening the images\n",
    "train_X = train_X.reshape(train_X.shape[0], -1)\n",
    "test_X = test_X.reshape(test_X.shape[0], -1)"
   ]
  },
  {
   "cell_type": "code",
   "execution_count": 283,
   "id": "48bbdf16",
   "metadata": {},
   "outputs": [],
   "source": [
    "model = Sequential()\n",
    "model.add(Flatten(input_shape=(224*224*3,)))\n",
    "model.add(Dense(1080, activation='relu'))\n",
    "model.add(layers.Dropout(0.3))\n",
    "model.add(Dense(512, activation='relu'))\n",
    "model.add(layers.Dropout(0.3))\n",
    "model.add(Dense(256, activation='relu'))\n",
    "model.add(layers.Dropout(0.3))\n",
    "model.add(Dense(1, activation='sigmoid'))"
   ]
  },
  {
   "cell_type": "code",
   "execution_count": 284,
   "id": "657d1b84",
   "metadata": {},
   "outputs": [],
   "source": [
    "# base_model = MobileNetV2(weights='imagenet', include_top=False, input_shape=(224, 224, 3),)"
   ]
  },
  {
   "cell_type": "code",
   "execution_count": 285,
   "id": "54b0dde5",
   "metadata": {},
   "outputs": [],
   "source": [
    "\n",
    "# for layer in base_model.layers:\n",
    "#     layer.trainable = False"
   ]
  },
  {
   "cell_type": "code",
   "execution_count": 286,
   "id": "cf660ef6",
   "metadata": {},
   "outputs": [],
   "source": [
    "# #fine tune the way u desire\n",
    "# headModel = base_model.output\n",
    "# headModel = Flatten()(headModel)\n",
    "# headModel = Dense(1080, activation='relu')(headModel)\n",
    "# headModel = Dropout(0.3)(headModel)\n",
    "# headModel = Dense(512, activation='relu')(headModel)\n",
    "# headModel = Dropout(0.3)(headModel)\n",
    "# headModel = Dense(256, activation='relu')(headModel)\n",
    "# headModel = Dropout(0.3)(headModel)\n",
    "# headModel = Dense(128, activation='relu')(headModel)\n",
    "# headModel = Dropout(0.3)(headModel)\n",
    "# headModel = Dense(1, activation='sigmoid')(headModel)"
   ]
  },
  {
   "cell_type": "code",
   "execution_count": 287,
   "id": "c964f5e6",
   "metadata": {},
   "outputs": [],
   "source": [
    "# model=Model(inputs=base_model.input, outputs=headModel)"
   ]
  },
  {
   "cell_type": "code",
   "execution_count": 288,
   "id": "fe01e921",
   "metadata": {},
   "outputs": [
    {
     "name": "stdout",
     "output_type": "stream",
     "text": [
      "Model: \"sequential_7\"\n",
      "_________________________________________________________________\n",
      " Layer (type)                Output Shape              Param #   \n",
      "=================================================================\n",
      " flatten_20 (Flatten)        (None, 150528)            0         \n",
      "                                                                 \n",
      " dense_67 (Dense)            (None, 1080)              162571320 \n",
      "                                                                 \n",
      " dropout_32 (Dropout)        (None, 1080)              0         \n",
      "                                                                 \n",
      " dense_68 (Dense)            (None, 512)               553472    \n",
      "                                                                 \n",
      " dropout_33 (Dropout)        (None, 512)               0         \n",
      "                                                                 \n",
      " dense_69 (Dense)            (None, 256)               131328    \n",
      "                                                                 \n",
      " dropout_34 (Dropout)        (None, 256)               0         \n",
      "                                                                 \n",
      " dense_70 (Dense)            (None, 1)                 257       \n",
      "                                                                 \n",
      "=================================================================\n",
      "Total params: 163,256,377\n",
      "Trainable params: 163,256,377\n",
      "Non-trainable params: 0\n",
      "_________________________________________________________________\n"
     ]
    }
   ],
   "source": [
    "model.summary()"
   ]
  },
  {
   "cell_type": "code",
   "execution_count": 289,
   "id": "14f8a94b",
   "metadata": {},
   "outputs": [],
   "source": [
    "metrics = ['accuracy',\n",
    "           tf.keras.metrics.Precision(name='precision'),\n",
    "           tf.keras.metrics.Recall(name='recall')]"
   ]
  },
  {
   "cell_type": "code",
   "execution_count": 290,
   "id": "2a75c34c",
   "metadata": {},
   "outputs": [],
   "source": [
    "model.compile(optimizer='adam',\n",
    "                  loss='binary_crossentropy',\n",
    "                  metrics=metrics)"
   ]
  },
  {
   "cell_type": "code",
   "execution_count": 291,
   "id": "53e01051",
   "metadata": {},
   "outputs": [
    {
     "name": "stdout",
     "output_type": "stream",
     "text": [
      "Epoch 1/10\n",
      "55/55 [==============================] - 55s 967ms/step - loss: 50.5960 - accuracy: 0.5069 - precision: 0.5069 - recall: 0.5098 - val_loss: 15.2046 - val_accuracy: 0.4975 - val_precision: 0.5228 - val_recall: 0.5833\n",
      "Epoch 2/10\n",
      "55/55 [==============================] - 51s 933ms/step - loss: 21.9100 - accuracy: 0.5439 - precision: 0.5435 - recall: 0.5491 - val_loss: 8.9957 - val_accuracy: 0.4926 - val_precision: 0.5366 - val_recall: 0.3056\n",
      "Epoch 3/10\n",
      "55/55 [==============================] - 51s 937ms/step - loss: 9.7973 - accuracy: 0.5468 - precision: 0.5458 - recall: 0.5584 - val_loss: 1.3569 - val_accuracy: 0.5319 - val_precision: 0.5468 - val_recall: 0.6759\n",
      "Epoch 4/10\n",
      "55/55 [==============================] - 52s 942ms/step - loss: 3.3805 - accuracy: 0.5301 - precision: 0.5288 - recall: 0.5514 - val_loss: 0.6945 - val_accuracy: 0.4828 - val_precision: 0.5352 - val_recall: 0.1759\n",
      "Epoch 5/10\n",
      "55/55 [==============================] - 52s 941ms/step - loss: 1.7088 - accuracy: 0.5133 - precision: 0.5158 - recall: 0.4347 - val_loss: 0.6913 - val_accuracy: 0.5049 - val_precision: 0.6029 - val_recall: 0.1898\n",
      "Epoch 6/10\n",
      "55/55 [==============================] - 52s 943ms/step - loss: 1.0589 - accuracy: 0.5191 - precision: 0.5191 - recall: 0.5191 - val_loss: 0.6944 - val_accuracy: 0.4926 - val_precision: 0.5818 - val_recall: 0.1481\n",
      "Epoch 7/10\n",
      "55/55 [==============================] - 51s 936ms/step - loss: 0.8517 - accuracy: 0.5110 - precision: 0.5141 - recall: 0.4012 - val_loss: 0.6931 - val_accuracy: 0.5343 - val_precision: 0.5349 - val_recall: 0.9213\n",
      "Epoch 8/10\n",
      "55/55 [==============================] - 51s 935ms/step - loss: 0.8221 - accuracy: 0.5254 - precision: 0.5231 - recall: 0.5757 - val_loss: 0.6940 - val_accuracy: 0.5319 - val_precision: 0.5360 - val_recall: 0.8611\n",
      "Epoch 9/10\n",
      "55/55 [==============================] - 51s 929ms/step - loss: 0.7637 - accuracy: 0.5162 - precision: 0.5194 - recall: 0.4324 - val_loss: 0.6933 - val_accuracy: 0.4608 - val_precision: 0.4615 - val_recall: 0.1111\n",
      "Epoch 10/10\n",
      "55/55 [==============================] - 51s 933ms/step - loss: 0.8013 - accuracy: 0.5306 - precision: 0.5314 - recall: 0.5179 - val_loss: 0.6920 - val_accuracy: 0.4730 - val_precision: 0.5556 - val_recall: 0.0231\n"
     ]
    }
   ],
   "source": [
    "#khalena elepochs w el batches w el optimizer zy b3dena\n",
    "history = model.fit(train_X,train_y_encoded,batch_size=32 ,epochs=10,\n",
    "                        validation_data=(test_X, test_y_encoded))"
   ]
  },
  {
   "cell_type": "code",
   "execution_count": 292,
   "id": "db6bdb53",
   "metadata": {},
   "outputs": [
    {
     "name": "stdout",
     "output_type": "stream",
     "text": [
      "13/13 [==============================] - 1s 107ms/step\n"
     ]
    }
   ],
   "source": [
    "y_pred = model.predict(test_X)"
   ]
  },
  {
   "cell_type": "code",
   "execution_count": 293,
   "id": "c79774ad",
   "metadata": {},
   "outputs": [],
   "source": [
    "# Convert the predicted probabilities to class labels\n",
    "threshold = 0.5\n",
    "\n",
    "y_pred_classes = np.where(y_pred >= threshold, 1, 0)\n",
    "\n",
    "conf_mat = confusion_matrix(test_y_encoded, y_pred_classes)"
   ]
  },
  {
   "cell_type": "code",
   "execution_count": 294,
   "id": "b620c003",
   "metadata": {},
   "outputs": [
    {
     "data": {
      "image/png": "[encoded data removed]",
      "text/plain": [
       "<Figure size 640x480 with 2 Axes>"
      ]
     },
     "metadata": {},
     "output_type": "display_data"
    }
   ],
   "source": [
    "# Compute the confusion matrix\n",
    "cm = confusion_matrix(test_y_encoded, y_pred_classes)\n",
    "\n",
    "# Create a heatmap of the confusion matrix\n",
    "sns.heatmap(cm, annot=True, cmap=\"Blues\",fmt='g')\n",
    "\n",
    "# Add labels and title to the plot\n",
    "plt.xlabel(\"Predicted Labels\")\n",
    "plt.ylabel(\"True Labels\")\n",
    "plt.title(\"zero vs one \")\n",
    "\n",
    "# Show the plot\n",
    "plt.show()"
   ]
  },
  {
   "cell_type": "code",
   "execution_count": 300,
   "id": "a5984b4d",
   "metadata": {},
   "outputs": [
    {
     "data": {
      "image/png": "[encoded data removed]",
      "text/plain": [
       "<Figure size 640x480 with 1 Axes>"
      ]
     },
     "metadata": {},
     "output_type": "display_data"
    }
   ],
   "source": [
    "train_loss = history.history['loss']\n",
    "val_loss = history.history['val_loss']\n",
    "epochs = range(1, len(train_loss) + 1)\n",
    "\n",
    "plt.plot(epochs, train_loss, 'b-', label='Training loss')\n",
    "plt.plot(epochs, val_loss, 'r-', label='Validation loss')\n",
    "plt.title('Training and validation loss')\n",
    "plt.xlabel('Epochs')\n",
    "plt.ylabel('Loss')\n",
    "plt.legend()\n",
    "\n",
    "plt.show()"
   ]
  },
  {
   "cell_type": "code",
   "execution_count": 301,
   "id": "9ad67376",
   "metadata": {},
   "outputs": [
    {
     "data": {
      "image/png": "[encoded data removed]",
      "text/plain": [
       "<Figure size 640x480 with 1 Axes>"
      ]
     },
     "metadata": {},
     "output_type": "display_data"
    }
   ],
   "source": [
    "train_accuracy = history.history['accuracy']\n",
    "val_accuracy = history.history['val_accuracy']\n",
    "epochs = range(1, len(train_accuracy) + 1)\n",
    "\n",
    "plt.plot(epochs, train_accuracy, 'b-', label='Training accuracy')\n",
    "plt.plot(epochs, val_accuracy, 'r-', label='Validation accuarcy')\n",
    "plt.title('Training and validation accuarcy')\n",
    "plt.xlabel('Epochs')\n",
    "plt.ylabel('accuarcy')\n",
    "plt.legend()\n",
    "\n",
    "plt.show()"
   ]
  },
  {
   "cell_type": "code",
   "execution_count": 302,
   "id": "cc289afe",
   "metadata": {},
   "outputs": [
    {
     "name": "stdout",
     "output_type": "stream",
     "text": [
      "              precision    recall  f1-score   support\n",
      "\n",
      "           0       0.47      0.98      0.64       192\n",
      "           1       0.56      0.02      0.04       216\n",
      "\n",
      "    accuracy                           0.47       408\n",
      "   macro avg       0.51      0.50      0.34       408\n",
      "weighted avg       0.52      0.47      0.32       408\n",
      "\n"
     ]
    }
   ],
   "source": [
    "from sklearn.metrics import confusion_matrix, classification_report\n",
    "\n",
    "# assume y_true and y_pred are the ground truth and predicted labels respectively\n",
    "# for a multi-class classification problem with classes 0 to n-1\n",
    "cm = confusion_matrix(test_y_encoded, y_pred_classes)\n",
    "report = classification_report(test_y_encoded, y_pred_classes)\n",
    "\n",
    "# recall for each class can be obtained from the classification report\n",
    "print(report)"
   ]
  },
  {
   "cell_type": "code",
   "execution_count": 303,
   "id": "a3558dcf",
   "metadata": {},
   "outputs": [
    {
     "name": "stdout",
     "output_type": "stream",
     "text": [
      "AUC score: 0.50\n"
     ]
    }
   ],
   "source": [
    "# calculate AUC score\n",
    "auc_score = roc_auc_score(test_y_encoded, y_pred_classes)\n",
    "\n",
    "# print the AUC score\n",
    "print(\"AUC score: {:.2f}\".format(auc_score))"
   ]
  },
  {
   "cell_type": "code",
   "execution_count": 304,
   "id": "f57e46f8",
   "metadata": {},
   "outputs": [
    {
     "name": "stdout",
     "output_type": "stream",
     "text": [
      "F1 score: 0.044444444444444446\n"
     ]
    }
   ],
   "source": [
    "from sklearn.metrics import f1_score\n",
    "# Calculate F1 score\n",
    "f1 = f1_score(test_y_encoded, y_pred_classes)\n",
    "print(\"F1 score:\", f1)\n"
   ]
  },
  {
   "cell_type": "code",
   "execution_count": null,
   "id": "c2345219",
   "metadata": {},
   "outputs": [],
   "source": []
  },
  {
   "cell_type": "code",
   "execution_count": null,
   "id": "f7a6c28b",
   "metadata": {},
   "outputs": [],
   "source": []
  }
 ],
 "metadata": {
  "kernelspec": {
   "display_name": "Python 3 (ipykernel)",
   "language": "python",
   "name": "python3"
  },
  "language_info": {
   "codemirror_mode": {
    "name": "ipython",
    "version": 3
   },
   "file_extension": ".py",
   "mimetype": "text/x-python",
   "name": "python",
   "nbconvert_exporter": "python",
   "pygments_lexer": "ipython3",
   "version": "3.10.9"
  }
 },
 "nbformat": 4,
 "nbformat_minor": 5
}
