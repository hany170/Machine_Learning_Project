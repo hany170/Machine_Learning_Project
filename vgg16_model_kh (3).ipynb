{
 "cells": [
  {
   "cell_type": "code",
   "execution_count": 1,
   "id": "722bc114",
   "metadata": {},
   "outputs": [],
   "source": [
    "import os\n",
    "import cv2\n",
    "import tensorflow as tf\n",
    "import keras\n",
    "from tensorflow.keras.models import Sequential, Model\n",
    "from tensorflow.keras.layers import Dense, Dropout, Input, MaxPooling2D, Flatten,Conv2D,Reshape, Conv1D\n",
    "from tensorflow.keras.optimizers import Adam\n",
    "from tensorflow.keras.applications.resnet50 import ResNet50\n",
    "from tensorflow.keras.callbacks import ModelCheckpoint\n",
    "from sklearn.preprocessing import LabelEncoder\n",
    "from sklearn.preprocessing import LabelBinarizer\n",
    "import numpy as np\n",
    "from imblearn.over_sampling import SMOTE\n",
    "from sklearn.svm import SVC\n",
    "from sklearn.preprocessing import StandardScaler\n",
    "from sklearn.metrics import accuracy_score, precision_score, recall_score, f1_score\n",
    "import numpy as np\n",
    "import matplotlib.pyplot as plt\n",
    "import tensorflow as tf\n",
    "from tensorflow import keras\n",
    "from tensorflow.keras import layers, models\n",
    "from tensorflow.keras import losses\n",
    "from tensorflow.keras.metrics import Recall, Precision\n",
    "import pandas as pd\n",
    "from sklearn.model_selection import train_test_split\n",
    "from sklearn.metrics import confusion_matrix\n",
    "import shutil\n",
    "import sys\n",
    "from sklearn.metrics import confusion_matrix\n",
    "import seaborn as sns\n",
    "from tensorflow.keras.callbacks import EarlyStopping\n",
    "from tensorflow.keras.preprocessing.image import load_img\n",
    "from tensorflow.keras.preprocessing.image import img_to_array\n",
    "from tensorflow.keras.applications.resnet50 import  preprocess_input\n",
    "from keras.utils import to_categorical\n",
    "import os\n",
    "import cv2 as cv\n",
    "from sklearn.metrics import roc_auc_score"
   ]
  },
  {
   "cell_type": "code",
   "execution_count": 2,
   "id": "ccbe7b29",
   "metadata": {},
   "outputs": [],
   "source": [
    "train_dir = r\"C:\\University\\6th semester\\machine_learning\\FaceSplittednew\\train\"\n",
    "test_dir =  r\"C:\\University\\6th semester\\machine_learning\\FaceSplittednew\\test\"\n",
    "# Set up the image dimensions\n",
    "img_height = 224\n",
    "img_width = 224\n",
    "\n",
    " \n",
    "\n",
    "# Define a function to preprocess the images\n",
    "def preprocess_images(data_dir):\n",
    "    X = []\n",
    "    y = []\n",
    "    \n",
    "    for class_name in os.listdir(data_dir):\n",
    "        class_dir = os.path.join(data_dir, class_name)\n",
    "        if os.path.isdir(class_dir):\n",
    "            for file_name in os.listdir(class_dir):\n",
    "                if file_name.endswith('.jpg'):\n",
    "                    img_path = os.path.join(class_dir, file_name)\n",
    "                    img = cv2.imread(img_path)\n",
    "                    img = cv2.resize(img, (img_height, img_width))\n",
    "                    img= img_to_array(img)\n",
    "                    img=preprocess_input(img)\n",
    "                    X.append(img)\n",
    "                    y.append(class_name)\n",
    "                    \n",
    "    X = np.array(X)\n",
    "    y = np.array(y)\n",
    "    \n",
    "    # Normalize the data using mean and standard deviation and we applied the normalization before the oversamling to prevent data leakage\n",
    "    scaler = StandardScaler()\n",
    "    X = scaler.fit_transform(X.reshape(X.shape[0], -1))\n",
    "    X = X.reshape(-1, img_height, img_width, 3)\n",
    "    \n",
    "   \n",
    "    \n",
    "    \n",
    "    # Perform label encoding on the target variable (labels)\n",
    "#     label_encoder = LabelEncoder()\n",
    "#     y_resampled = label_encoder.fit_transform(y_resampled)\n",
    "    \n",
    "    return X, y\n",
    "\n"
   ]
  },
  {
   "cell_type": "code",
   "execution_count": 3,
   "id": "abd09fc3",
   "metadata": {},
   "outputs": [],
   "source": [
    "# Preprocess the training data\n",
    "train_X, train_y = preprocess_images(train_dir)\n",
    "\n",
    "# Preprocess the testing data\n",
    "test_X, test_y = preprocess_images(test_dir)"
   ]
  },
  {
   "cell_type": "code",
   "execution_count": 4,
   "id": "f2c347a7",
   "metadata": {},
   "outputs": [],
   "source": [
    "label_encoder = LabelEncoder()\n",
    "train_y_encoded = label_encoder.fit_transform(train_y)\n",
    "test_y_encoded = label_encoder.transform(test_y)"
   ]
  },
  {
   "cell_type": "code",
   "execution_count": 5,
   "id": "53efea9a",
   "metadata": {},
   "outputs": [
    {
     "data": {
      "text/plain": [
       "(1633,)"
      ]
     },
     "execution_count": 5,
     "metadata": {},
     "output_type": "execute_result"
    }
   ],
   "source": [
    "train_y_encoded.shape"
   ]
  },
  {
   "cell_type": "code",
   "execution_count": 6,
   "id": "686a82b4",
   "metadata": {},
   "outputs": [
    {
     "name": "stdout",
     "output_type": "stream",
     "text": [
      "real:865,fake:768\n"
     ]
    }
   ],
   "source": [
    "ct=0\n",
    "ct1=0\n",
    "for i in range(len(train_y_encoded)):\n",
    "    if train_y_encoded[i]==1:\n",
    "        ct1+=1#real\n",
    "    else:\n",
    "        ct+=1#fake\n",
    "print(f\"real:{ct1},fake:{ct}\")"
   ]
  },
  {
   "cell_type": "code",
   "execution_count": 7,
   "id": "368ff67e",
   "metadata": {},
   "outputs": [],
   "source": [
    "augImg=[]\n",
    "augLabel=[]\n",
    "for i in range(97):        \n",
    "    flipped_img = cv.flip(train_X[i],0)\n",
    "    augImg.append(flipped_img)\n",
    "    augLabel.append(train_y_encoded[i])\n",
    "new_images = np.array(augImg)\n",
    "train_X= np.concatenate([train_X,new_images])\n",
    "train_y_encoded= np.concatenate([train_y_encoded,augLabel])"
   ]
  },
  {
   "cell_type": "code",
   "execution_count": 8,
   "id": "d0b1fb9e",
   "metadata": {},
   "outputs": [
    {
     "data": {
      "text/plain": [
       "(1730,)"
      ]
     },
     "execution_count": 8,
     "metadata": {},
     "output_type": "execute_result"
    }
   ],
   "source": [
    "train_y_encoded.shape"
   ]
  },
  {
   "cell_type": "code",
   "execution_count": 9,
   "id": "dbeed87f",
   "metadata": {},
   "outputs": [
    {
     "name": "stdout",
     "output_type": "stream",
     "text": [
      "real:865,fake:865\n"
     ]
    }
   ],
   "source": [
    "ct=0\n",
    "ct1=0\n",
    "for i in range(len(train_y_encoded)):\n",
    "    if train_y_encoded[i]==1:\n",
    "        ct1+=1#real\n",
    "    else:\n",
    "        ct+=1#fake\n",
    "print(f\"real:{ct1},fake:{ct}\")"
   ]
  },
  {
   "cell_type": "code",
   "execution_count": 10,
   "id": "61103104",
   "metadata": {},
   "outputs": [
    {
     "name": "stdout",
     "output_type": "stream",
     "text": [
      "the trainX shape is: (1730, 224, 224, 3)\n",
      "the testx shape is (408, 224, 224, 3)\n",
      "the ytrain shape is: (1633,)\n",
      "the ytest shape is: (408,)\n"
     ]
    }
   ],
   "source": [
    "print(\"the trainX shape is:\",train_X.shape)\n",
    "print(\"the testx shape is\",test_X.shape)\n",
    "print(\"the ytrain shape is:\",train_y.shape)\n",
    "print(\"the ytest shape is:\",test_y.shape)"
   ]
  },
  {
   "cell_type": "code",
   "execution_count": 11,
   "id": "41401451",
   "metadata": {},
   "outputs": [
    {
     "name": "stdout",
     "output_type": "stream",
     "text": [
      "real:216,fake:192\n"
     ]
    }
   ],
   "source": [
    "ct=0\n",
    "ct1=0\n",
    "for i in range(len(test_y_encoded)):\n",
    "    if test_y_encoded[i]==1:\n",
    "        ct1+=1\n",
    "    else:\n",
    "        ct+=1\n",
    "print(f\"real:{ct1},fake:{ct}\")"
   ]
  },
  {
   "cell_type": "code",
   "execution_count": 12,
   "id": "54d5ef37",
   "metadata": {},
   "outputs": [],
   "source": [
    "# Load the ResNet50 model without the top classification layer\n",
    "vgg16_model = tf.keras.applications.VGG16(weights='imagenet', include_top=False, input_shape=(img_width, img_height, 3))"
   ]
  },
  {
   "cell_type": "code",
   "execution_count": 13,
   "id": "a64bdf77",
   "metadata": {},
   "outputs": [],
   "source": [
    "#This will set all layers in the ResNet50 model to be untrainable so that their weights will not be updated during training.\n",
    "for layer in vgg16_model.layers:\n",
    "    layer.trainable = False"
   ]
  },
  {
   "cell_type": "code",
   "execution_count": 17,
   "id": "51a88669",
   "metadata": {},
   "outputs": [],
   "source": [
    "#fine tune the way u desire\n",
    "headModel = vgg16_model.output\n",
    "headModel = Flatten()(headModel)\n",
    "headModel = Dense(1080, activation='relu')(headModel)\n",
    "head_model = Dropout(0.3)(headModel)\n",
    "headModel = Dense(512, activation='relu')(headModel)\n",
    "head_model = Dropout(0.3)(headModel)\n",
    "headModel = Dense(128, activation='relu')(headModel)\n",
    "head_model = Dropout(0.3)(headModel)\n",
    "headModel = Dense(1, activation='sigmoid')(headModel)"
   ]
  },
  {
   "cell_type": "code",
   "execution_count": 18,
   "id": "4d1adc49",
   "metadata": {},
   "outputs": [],
   "source": [
    "model=Model(inputs=vgg16_model.input, outputs=headModel)"
   ]
  },
  {
   "cell_type": "code",
   "execution_count": 19,
   "id": "6dff4cc6",
   "metadata": {},
   "outputs": [
    {
     "name": "stdout",
     "output_type": "stream",
     "text": [
      "Model: \"model\"\n",
      "_________________________________________________________________\n",
      " Layer (type)                Output Shape              Param #   \n",
      "=================================================================\n",
      " input_1 (InputLayer)        [(None, 224, 224, 3)]     0         \n",
      "                                                                 \n",
      " block1_conv1 (Conv2D)       (None, 224, 224, 64)      1792      \n",
      "                                                                 \n",
      " block1_conv2 (Conv2D)       (None, 224, 224, 64)      36928     \n",
      "                                                                 \n",
      " block1_pool (MaxPooling2D)  (None, 112, 112, 64)      0         \n",
      "                                                                 \n",
      " block2_conv1 (Conv2D)       (None, 112, 112, 128)     73856     \n",
      "                                                                 \n",
      " block2_conv2 (Conv2D)       (None, 112, 112, 128)     147584    \n",
      "                                                                 \n",
      " block2_pool (MaxPooling2D)  (None, 56, 56, 128)       0         \n",
      "                                                                 \n",
      " block3_conv1 (Conv2D)       (None, 56, 56, 256)       295168    \n",
      "                                                                 \n",
      " block3_conv2 (Conv2D)       (None, 56, 56, 256)       590080    \n",
      "                                                                 \n",
      " block3_conv3 (Conv2D)       (None, 56, 56, 256)       590080    \n",
      "                                                                 \n",
      " block3_pool (MaxPooling2D)  (None, 28, 28, 256)       0         \n",
      "                                                                 \n",
      " block4_conv1 (Conv2D)       (None, 28, 28, 512)       1180160   \n",
      "                                                                 \n",
      " block4_conv2 (Conv2D)       (None, 28, 28, 512)       2359808   \n",
      "                                                                 \n",
      " block4_conv3 (Conv2D)       (None, 28, 28, 512)       2359808   \n",
      "                                                                 \n",
      " block4_pool (MaxPooling2D)  (None, 14, 14, 512)       0         \n",
      "                                                                 \n",
      " block5_conv1 (Conv2D)       (None, 14, 14, 512)       2359808   \n",
      "                                                                 \n",
      " block5_conv2 (Conv2D)       (None, 14, 14, 512)       2359808   \n",
      "                                                                 \n",
      " block5_conv3 (Conv2D)       (None, 14, 14, 512)       2359808   \n",
      "                                                                 \n",
      " block5_pool (MaxPooling2D)  (None, 7, 7, 512)         0         \n",
      "                                                                 \n",
      " flatten_3 (Flatten)         (None, 25088)             0         \n",
      "                                                                 \n",
      " dense_3 (Dense)             (None, 1080)              27096120  \n",
      "                                                                 \n",
      " dense_4 (Dense)             (None, 512)               553472    \n",
      "                                                                 \n",
      " dense_5 (Dense)             (None, 128)               65664     \n",
      "                                                                 \n",
      " dense_6 (Dense)             (None, 1)                 129       \n",
      "                                                                 \n",
      "=================================================================\n",
      "Total params: 42,430,073\n",
      "Trainable params: 27,715,385\n",
      "Non-trainable params: 14,714,688\n",
      "_________________________________________________________________\n"
     ]
    }
   ],
   "source": [
    "model.summary()"
   ]
  },
  {
   "cell_type": "code",
   "execution_count": 20,
   "id": "4caea8b5",
   "metadata": {},
   "outputs": [],
   "source": [
    "metrics = ['accuracy',\n",
    "           tf.keras.metrics.Precision(name='precision'),\n",
    "           tf.keras.metrics.Recall(name='recall')]"
   ]
  },
  {
   "cell_type": "code",
   "execution_count": 21,
   "id": "8be9344c",
   "metadata": {},
   "outputs": [],
   "source": [
    "model.compile(optimizer='adam',\n",
    "                  loss='binary_crossentropy',\n",
    "                  metrics=metrics)"
   ]
  },
  {
   "cell_type": "code",
   "execution_count": 22,
   "id": "3cd50e40",
   "metadata": {},
   "outputs": [
    {
     "data": {
      "text/plain": [
       "array([0, 0, 0, ..., 0, 0, 0], dtype=int64)"
      ]
     },
     "execution_count": 22,
     "metadata": {},
     "output_type": "execute_result"
    }
   ],
   "source": [
    "train_y_encoded"
   ]
  },
  {
   "cell_type": "code",
   "execution_count": 23,
   "id": "7d278444",
   "metadata": {},
   "outputs": [
    {
     "name": "stdout",
     "output_type": "stream",
     "text": [
      "Epoch 1/10\n",
      "28/28 [==============================] - 108s 4s/step - loss: 1.3587 - accuracy: 0.5179 - precision: 0.5181 - recall: 0.5133 - val_loss: 0.8519 - val_accuracy: 0.4902 - val_precision: 0.7500 - val_recall: 0.0556\n",
      "Epoch 2/10\n",
      "28/28 [==============================] - 111s 4s/step - loss: 0.6754 - accuracy: 0.6434 - precision: 0.6578 - recall: 0.5977 - val_loss: 0.7357 - val_accuracy: 0.5858 - val_precision: 0.7582 - val_recall: 0.3194\n",
      "Epoch 3/10\n",
      "28/28 [==============================] - 111s 4s/step - loss: 0.4799 - accuracy: 0.7578 - precision: 0.7563 - recall: 0.7607 - val_loss: 0.7245 - val_accuracy: 0.5980 - val_precision: 0.6566 - val_recall: 0.5046\n",
      "Epoch 4/10\n",
      "28/28 [==============================] - 112s 4s/step - loss: 0.3558 - accuracy: 0.8503 - precision: 0.8435 - recall: 0.8601 - val_loss: 1.2124 - val_accuracy: 0.5711 - val_precision: 0.5535 - val_recall: 0.9815\n",
      "Epoch 5/10\n",
      "28/28 [==============================] - 112s 4s/step - loss: 0.3070 - accuracy: 0.8630 - precision: 0.8576 - recall: 0.8705 - val_loss: 0.8597 - val_accuracy: 0.6569 - val_precision: 0.7065 - val_recall: 0.6019\n",
      "Epoch 6/10\n",
      "28/28 [==============================] - 110s 4s/step - loss: 0.1839 - accuracy: 0.9225 - precision: 0.9235 - recall: 0.9214 - val_loss: 1.0099 - val_accuracy: 0.6324 - val_precision: 0.6500 - val_recall: 0.6620\n",
      "Epoch 7/10\n",
      "28/28 [==============================] - 110s 4s/step - loss: 0.0858 - accuracy: 0.9688 - precision: 0.9710 - recall: 0.9665 - val_loss: 1.4814 - val_accuracy: 0.6078 - val_precision: 0.5870 - val_recall: 0.8750\n",
      "Epoch 8/10\n",
      "28/28 [==============================] - 111s 4s/step - loss: 0.0495 - accuracy: 0.9838 - precision: 0.9816 - recall: 0.9861 - val_loss: 2.0494 - val_accuracy: 0.5833 - val_precision: 0.7255 - val_recall: 0.3426\n",
      "Epoch 9/10\n",
      "28/28 [==============================] - 111s 4s/step - loss: 0.0418 - accuracy: 0.9855 - precision: 0.9861 - recall: 0.9850 - val_loss: 1.6025 - val_accuracy: 0.6373 - val_precision: 0.6619 - val_recall: 0.6435\n",
      "Epoch 10/10\n",
      "28/28 [==============================] - 120s 4s/step - loss: 0.0169 - accuracy: 0.9960 - precision: 0.9965 - recall: 0.9954 - val_loss: 1.6581 - val_accuracy: 0.6176 - val_precision: 0.6220 - val_recall: 0.7083\n"
     ]
    }
   ],
   "source": [
    "with tf.device('/device:CPU:0'):\n",
    "    #khalena elepochs w el batches w el optimizer zy b3dena\n",
    "    history = model.fit(train_X,train_y_encoded,batch_size=64 ,epochs=10,\n",
    "                            validation_data=(test_X, test_y_encoded))"
   ]
  },
  {
   "cell_type": "code",
   "execution_count": 24,
   "id": "9d01a51b",
   "metadata": {},
   "outputs": [
    {
     "name": "stdout",
     "output_type": "stream",
     "text": [
      "13/13 [==============================] - 21s 2s/step\n"
     ]
    }
   ],
   "source": [
    "with tf.device('/device:CPU:0'):\n",
    "    y_pred = model.predict(test_X)"
   ]
  },
  {
   "cell_type": "code",
   "execution_count": 25,
   "id": "6b7a6c2d",
   "metadata": {},
   "outputs": [],
   "source": [
    "# Convert the predicted probabilities to class labels\n",
    "threshold = 0.5\n",
    "\n",
    "y_pred_classes = np.where(y_pred >= threshold, 1, 0)\n",
    "\n",
    "conf_mat = confusion_matrix(test_y_encoded, y_pred_classes)"
   ]
  },
  {
   "cell_type": "code",
   "execution_count": 26,
   "id": "5e7b821a",
   "metadata": {},
   "outputs": [
    {
     "data": {
      "image/png": "[encoded data removed]",
      "text/plain": [
       "<Figure size 640x480 with 2 Axes>"
      ]
     },
     "metadata": {},
     "output_type": "display_data"
    }
   ],
   "source": [
    "# Compute the confusion matrix\n",
    "cm = confusion_matrix(test_y_encoded, y_pred_classes)\n",
    "\n",
    "# Create a heatmap of the confusion matrix\n",
    "sns.heatmap(cm, annot=True, cmap=\"Blues\",fmt='g')\n",
    "\n",
    "# Add labels and title to the plot\n",
    "plt.xlabel(\"Predicted Labels\")\n",
    "plt.ylabel(\"True Labels\")\n",
    "plt.title(\"zero vs one \")\n",
    "\n",
    "# Show the plot\n",
    "plt.show()"
   ]
  },
  {
   "cell_type": "code",
   "execution_count": 27,
   "id": "89ef19ee",
   "metadata": {},
   "outputs": [
    {
     "data": {
      "image/png": "[encoded data removed]",
      "text/plain": [
       "<Figure size 640x480 with 1 Axes>"
      ]
     },
     "metadata": {},
     "output_type": "display_data"
    }
   ],
   "source": [
    "train_loss = history.history['loss']\n",
    "val_loss = history.history['val_loss']\n",
    "epochs = range(1, len(train_loss) + 1)\n",
    "\n",
    "plt.plot(epochs, train_loss, 'b-', label='Training loss')\n",
    "plt.plot(epochs, val_loss, 'r-', label='Validation loss')\n",
    "plt.title('Training and validation loss')\n",
    "plt.xlabel('Epochs')\n",
    "plt.ylabel('Loss')\n",
    "plt.legend()\n",
    "\n",
    "plt.show()"
   ]
  },
  {
   "cell_type": "code",
   "execution_count": 28,
   "id": "8ec51002",
   "metadata": {},
   "outputs": [
    {
     "data": {
      "image/png": "[encoded data removed]",
      "text/plain": [
       "<Figure size 640x480 with 1 Axes>"
      ]
     },
     "metadata": {},
     "output_type": "display_data"
    }
   ],
   "source": [
    "train_accuracy = history.history['accuracy']\n",
    "val_accuracy = history.history['val_accuracy']\n",
    "epochs = range(1, len(train_accuracy) + 1)\n",
    "\n",
    "plt.plot(epochs, train_accuracy, 'b-', label='Training accuracy')\n",
    "plt.plot(epochs, val_accuracy, 'r-', label='Validation accuarcy')\n",
    "plt.title('Training and validation accuarcy')\n",
    "plt.xlabel('Epochs')\n",
    "plt.ylabel('accuarcy')\n",
    "plt.legend()\n",
    "\n",
    "plt.show()"
   ]
  },
  {
   "cell_type": "code",
   "execution_count": 29,
   "id": "7835f2e8",
   "metadata": {},
   "outputs": [
    {
     "name": "stdout",
     "output_type": "stream",
     "text": [
      "              precision    recall  f1-score   support\n",
      "\n",
      "           0       0.61      0.52      0.56       192\n",
      "           1       0.62      0.71      0.66       216\n",
      "\n",
      "    accuracy                           0.62       408\n",
      "   macro avg       0.62      0.61      0.61       408\n",
      "weighted avg       0.62      0.62      0.61       408\n",
      "\n"
     ]
    }
   ],
   "source": [
    "from sklearn.metrics import confusion_matrix, classification_report\n",
    "\n",
    "# assume y_true and y_pred are the ground truth and predicted labels respectively\n",
    "# for a multi-class classification problem with classes 0 to n-1\n",
    "cm = confusion_matrix(test_y_encoded, y_pred_classes)\n",
    "report = classification_report(test_y_encoded, y_pred_classes)\n",
    "\n",
    "# recall for each class can be obtained from the classification report\n",
    "print(report)"
   ]
  },
  {
   "cell_type": "code",
   "execution_count": 30,
   "id": "9fdbb2d4",
   "metadata": {},
   "outputs": [
    {
     "name": "stdout",
     "output_type": "stream",
     "text": [
      "AUC score: 0.61\n"
     ]
    }
   ],
   "source": [
    "# calculate AUC score\n",
    "auc_score = roc_auc_score(test_y_encoded, y_pred_classes)\n",
    "\n",
    "# print the AUC score\n",
    "print(\"AUC score: {:.2f}\".format(auc_score))"
   ]
  },
  {
   "cell_type": "code",
   "execution_count": null,
   "id": "194a6d38",
   "metadata": {},
   "outputs": [],
   "source": []
  }
 ],
 "metadata": {
  "kernelspec": {
   "display_name": "Python 3 (ipykernel)",
   "language": "python",
   "name": "python3"
  },
  "language_info": {
   "codemirror_mode": {
    "name": "ipython",
    "version": 3
   },
   "file_extension": ".py",
   "mimetype": "text/x-python",
   "name": "python",
   "nbconvert_exporter": "python",
   "pygments_lexer": "ipython3",
   "version": "3.9.13"
  }
 },
 "nbformat": 4,
 "nbformat_minor": 5
}
