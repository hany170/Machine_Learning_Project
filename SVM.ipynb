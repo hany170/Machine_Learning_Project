{
 "cells": [
  {
   "cell_type": "code",
   "execution_count": 1,
   "id": "fb3b0152",
   "metadata": {},
   "outputs": [],
   "source": [
    "import os\n",
    "import cv2\n",
    "from sklearn.preprocessing import LabelEncoder\n",
    "from skimage.feature import hog\n",
    "import numpy as np\n",
    "from imblearn.over_sampling import SMOTE\n",
    "from sklearn.svm import SVC\n",
    "from sklearn.preprocessing import StandardScaler\n",
    "# Evaluate the performance of the model\n",
    "from sklearn.metrics import accuracy_score, precision_score, recall_score, f1_score\n"
   ]
  },
  {
   "cell_type": "code",
   "execution_count": 2,
   "id": "f33a7020",
   "metadata": {},
   "outputs": [],
   "source": [
    "# Set up the paths to the input directories\n",
    "train_dir = \"C:/Users/Dell/University/Machine learning/Face_splittedData/train\"\n",
    "test_dir =  \"C:/Users/Dell/University/Machine learning/Face_splittedData/test\"\n",
    "\n",
    "# Set up the image dimensions\n",
    "img_height = 224\n",
    "img_width = 224\n",
    "\n",
    "\n",
    "# Define a function to preprocess the images\n",
    "def preprocess_images(data_dir):\n",
    "    X = []\n",
    "    y = []\n",
    "    \n",
    "    for class_name in os.listdir(data_dir):\n",
    "        class_dir = os.path.join(data_dir, class_name)\n",
    "        if os.path.isdir(class_dir):\n",
    "            for file_name in os.listdir(class_dir):\n",
    "                if file_name.endswith('.jpg'):\n",
    "                    img_path = os.path.join(class_dir, file_name)\n",
    "                    img = cv2.imread(img_path)\n",
    "                    img = cv2.resize(img, (img_height, img_width))\n",
    "                    X.append(img)\n",
    "                    y.append(class_name)\n",
    "                    \n",
    "    X = np.array(X)\n",
    "    y = np.array(y)\n",
    "    \n",
    "    # Normalize the data using mean and standard deviation and we applied the normalization before the oversamling to prevent data leakage\n",
    "    scaler = StandardScaler()\n",
    "    X = scaler.fit_transform(X.reshape(X.shape[0], -1))\n",
    "    X = X.reshape(-1, img_height, img_width, 3)\n",
    "    \n",
    "    # Apply SMOTE to balance the classes\n",
    "    smote = SMOTE(random_state=42)\n",
    "    X_resampled, y_resampled = smote.fit_resample(X.reshape(X.shape[0], -1), y)\n",
    "    X_resampled = X_resampled.reshape(-1, img_height, img_width, 3)\n",
    "    \n",
    "   \n",
    "    \n",
    "    \n",
    "    # Perform label encoding on the target variable (labels)\n",
    "    label_encoder = LabelEncoder()\n",
    "    y_resampled = label_encoder.fit_transform(y_resampled)\n",
    "    \n",
    "    return X_resampled, y_resampled\n",
    "    \n",
    "\n",
    "\n"
   ]
  },
  {
   "cell_type": "code",
   "execution_count": 3,
   "id": "d9103460",
   "metadata": {},
   "outputs": [],
   "source": [
    "# Preprocess the training data\n",
    "train_X, train_y = preprocess_images(train_dir)\n",
    "\n",
    "# Preprocess the testing data\n",
    "test_X, test_y = preprocess_images(test_dir)"
   ]
  },
  {
   "cell_type": "code",
   "execution_count": 4,
   "id": "c09ae10f",
   "metadata": {},
   "outputs": [],
   "source": [
    "#print(label_encoder.classes_)\n",
    "#train_X.reshape(1346, -1)\n",
    "#test_X.reshape(506, -1)"
   ]
  },
  {
   "cell_type": "code",
   "execution_count": 5,
   "id": "07748664",
   "metadata": {},
   "outputs": [],
   "source": [
    "# Flatten each image into a 1-dimensional array of features\n",
    "train_X_flat = np.array([img.flatten() for img in train_X])\n",
    "test_X_flat = np.array([img.flatten() for img in test_X])\n",
    "\n",
    "\n"
   ]
  },
  {
   "cell_type": "code",
   "execution_count": 6,
   "id": "c813f090",
   "metadata": {},
   "outputs": [
    {
     "data": {
      "text/plain": [
       "(506, 150528)"
      ]
     },
     "execution_count": 6,
     "metadata": {},
     "output_type": "execute_result"
    }
   ],
   "source": [
    "test_X_flat.shape"
   ]
  },
  {
   "cell_type": "code",
   "execution_count": 10,
   "id": "ff0ef3a1",
   "metadata": {},
   "outputs": [
    {
     "name": "stdout",
     "output_type": "stream",
     "text": [
      "Accuracy: 1.000\n",
      "Recall: 1.000\n",
      "Precision: 1.000\n",
      "F1_score: 1.000\n"
     ]
    }
   ],
   "source": [
    " #SVM with a non-linear kernel\n",
    "#svm = SVC(C=1, kernel='poly', degree=3, gamma='scale', coef0=0, shrinking=True, probability=True, tol=0.001, cache_size=200, class_weight=None, verbose=False, max_iter=-1, decision_function_shape='ovr', break_ties=False, random_state=42)\n",
    "#svm with linear kernel \n",
    "svm=SVC(kernel='linear', C=1, random_state=42)\n",
    "# Train SVM on the preprocessed training data\n",
    "svm.fit(train_X_flat, train_y)\n",
    "\n",
    "# Predict labels for the preprocessed testing data\n",
    "pred_y = svm.predict(test_X_flat)\n",
    "\n",
    "# Evaluate the performance of the classifier\n",
    "acc = accuracy_score(test_y, pred_y)\n",
    "rec = recall_score(test_y, pred_y)\n",
    "prec = precision_score(test_y, pred_y)\n",
    "f1 = f1_score(test_y, pred_y)\n",
    "\n",
    "print(\"Accuracy: {:.3f}\".format(acc))\n",
    "print(\"Recall: {:.3f}\".format(rec))\n",
    "print(\"Precision: {:.3f}\".format(prec))\n",
    "print(\"F1_score: {:.3f}\".format(f1))"
   ]
  },
  {
   "cell_type": "code",
   "execution_count": null,
   "id": "2c89e694",
   "metadata": {},
   "outputs": [],
   "source": [
    "print(len(test_y)) \n",
    "print(len(pred_y))"
   ]
  },
  {
   "cell_type": "code",
   "execution_count": null,
   "id": "fe5dc273",
   "metadata": {},
   "outputs": [],
   "source": []
  }
 ],
 "metadata": {
  "kernelspec": {
   "display_name": "Python 3 (ipykernel)",
   "language": "python",
   "name": "python3"
  },
  "language_info": {
   "codemirror_mode": {
    "name": "ipython",
    "version": 3
   },
   "file_extension": ".py",
   "mimetype": "text/x-python",
   "name": "python",
   "nbconvert_exporter": "python",
   "pygments_lexer": "ipython3",
   "version": "3.9.13"
  }
 },
 "nbformat": 4,
 "nbformat_minor": 5
}
