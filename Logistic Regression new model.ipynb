{
 "cells": [
  {
   "cell_type": "code",
   "execution_count": 1,
   "id": "ea499954",
   "metadata": {},
   "outputs": [],
   "source": [
    "import os\n",
    "import cv2\n",
    "from sklearn.preprocessing import LabelEncoder\n",
    "from skimage.feature import hog\n",
    "import numpy as np\n",
    "from imblearn.over_sampling import SMOTE\n",
    "from sklearn.linear_model import LogisticRegression\n",
    "from sklearn.preprocessing import StandardScaler\n",
    "import seaborn as sns\n",
    "import matplotlib.pyplot as plt\n",
    "# Evaluate the performance of the model\n",
    "from sklearn.metrics import accuracy_score, precision_score, recall_score, f1_score, confusion_matrix\n",
    "from sklearn.metrics import roc_auc_score"
   ]
  },
  {
   "cell_type": "code",
   "execution_count": 2,
   "id": "35872bd6",
   "metadata": {},
   "outputs": [],
   "source": [
    "# Set up the paths to the input directories\n",
    "train_dir = r\"C:\\Users\\pc\\OneDrive\\Desktop\\CS\\semester6\\Machine Learning (CS363)\\new project\\FaceSplittednew\\train\"\n",
    "test_dir = r\"C:\\Users\\pc\\OneDrive\\Desktop\\CS\\semester6\\Machine Learning (CS363)\\new project\\FaceSplittednew\\test\"\n",
    "\n",
    "# Set up the image dimensions\n",
    "img_height = 224\n",
    "img_width = 224\n",
    "\n",
    "\n",
    "# Define a function to preprocess the images\n",
    "def preprocess_images(data_dir):\n",
    "    training_data = []\n",
    "    X = []\n",
    "    y = []\n",
    "    \n",
    "    for class_name in os.listdir(data_dir):\n",
    "        class_dir = os.path.join(data_dir, class_name)\n",
    "        if os.path.isdir(class_dir):\n",
    "            for file_name in os.listdir(class_dir):\n",
    "                if file_name.endswith('.jpg'):\n",
    "                    img_path = os.path.join(class_dir, file_name)\n",
    "                    img = cv2.imread(img_path)\n",
    "                    img = cv2.resize(img, (img_height, img_width))\n",
    "                    training_data.append([img,class_name])\n",
    "                    \n",
    "    import random\n",
    "    random.shuffle(training_data)\n",
    "#     for sample in training_data[:10]:\n",
    "#         print(sample[1]) \n",
    "    \n",
    "    for features,label in training_data:\n",
    "        X.append(features)\n",
    "        y.append(label)\n",
    "    \n",
    "    X = np.array(X)\n",
    "    y = np.array(y)\n",
    "    \n",
    "    \n",
    "    \n",
    "    # Normalize the data using mean and standard deviation and we applied the normalization before the oversamling to prevent data leakage\n",
    "    scaler = StandardScaler()\n",
    "    X = scaler.fit_transform(X.reshape(X.shape[0], -1))\n",
    "    X = X.reshape(-1, img_height, img_width, 3)\n",
    "    \n",
    "    # Apply SMOTE to balance the classes\n",
    "    smote = SMOTE(random_state=42)\n",
    "    X_resampled, y_resampled = smote.fit_resample(X.reshape(X.shape[0], -1), y)\n",
    "    X_resampled = X_resampled.reshape(-1, img_height, img_width, 3)\n",
    "    \n",
    "   \n",
    "    \n",
    "    \n",
    "    # Perform label encoding on the target variable (labels)\n",
    "    label_encoder = LabelEncoder()\n",
    "    y_resampled = label_encoder.fit_transform(y_resampled)\n",
    "    \n",
    "    return X_resampled, y_resampled\n",
    "    \n",
    "\n",
    "\n"
   ]
  },
  {
   "cell_type": "code",
   "execution_count": 3,
   "id": "81a030aa",
   "metadata": {},
   "outputs": [],
   "source": [
    "# Preprocess the training data\n",
    "train_X, train_y = preprocess_images(train_dir)\n",
    "\n",
    "# Preprocess the testing data\n",
    "test_X, test_y = preprocess_images(test_dir)"
   ]
  },
  {
   "cell_type": "code",
   "execution_count": 4,
   "id": "0d9d0e16",
   "metadata": {},
   "outputs": [],
   "source": [
    "#apply flatten to convert 3-dimensional to 2-dimension \n",
    "train_X_flat = np.array([img.flatten() for img in train_X])\n",
    "test_X_flat = np.array([img.flatten() for img in test_X])"
   ]
  },
  {
   "cell_type": "code",
   "execution_count": 5,
   "id": "e6e395d3",
   "metadata": {},
   "outputs": [
    {
     "name": "stdout",
     "output_type": "stream",
     "text": [
      "x train dimensions : (1730, 150528)\n",
      "x test dimensions:  (432, 150528)\n",
      "y train dimensions : (1730,)\n",
      "y test dimensions : (432,)\n",
      "0\n",
      "1\n",
      "0\n",
      "1\n",
      "1\n",
      "1\n",
      "1\n",
      "0\n",
      "1\n",
      "1\n"
     ]
    }
   ],
   "source": [
    "print(\"x train dimensions :\",train_X_flat.shape)\n",
    "print(\"x test dimensions: \",test_X_flat.shape)\n",
    "print(\"y train dimensions :\",train_y.shape)\n",
    "print(\"y test dimensions :\",test_y.shape)\n",
    "\n",
    "for i in test_y[:10]:\n",
    "        print(i)"
   ]
  },
  {
   "cell_type": "code",
   "execution_count": 6,
   "id": "6ed3b56b",
   "metadata": {},
   "outputs": [
    {
     "data": {
      "text/html": [
       "<style>#sk-container-id-1 {color: black;background-color: white;}#sk-container-id-1 pre{padding: 0;}#sk-container-id-1 div.sk-toggleable {background-color: white;}#sk-container-id-1 label.sk-toggleable__label {cursor: pointer;display: block;width: 100%;margin-bottom: 0;padding: 0.3em;box-sizing: border-box;text-align: center;}#sk-container-id-1 label.sk-toggleable__label-arrow:before {content: \"▸\";float: left;margin-right: 0.25em;color: #696969;}#sk-container-id-1 label.sk-toggleable__label-arrow:hover:before {color: black;}#sk-container-id-1 div.sk-estimator:hover label.sk-toggleable__label-arrow:before {color: black;}#sk-container-id-1 div.sk-toggleable__content {max-height: 0;max-width: 0;overflow: hidden;text-align: left;background-color: #f0f8ff;}#sk-container-id-1 div.sk-toggleable__content pre {margin: 0.2em;color: black;border-radius: 0.25em;background-color: #f0f8ff;}#sk-container-id-1 input.sk-toggleable__control:checked~div.sk-toggleable__content {max-height: 200px;max-width: 100%;overflow: auto;}#sk-container-id-1 input.sk-toggleable__control:checked~label.sk-toggleable__label-arrow:before {content: \"▾\";}#sk-container-id-1 div.sk-estimator input.sk-toggleable__control:checked~label.sk-toggleable__label {background-color: #d4ebff;}#sk-container-id-1 div.sk-label input.sk-toggleable__control:checked~label.sk-toggleable__label {background-color: #d4ebff;}#sk-container-id-1 input.sk-hidden--visually {border: 0;clip: rect(1px 1px 1px 1px);clip: rect(1px, 1px, 1px, 1px);height: 1px;margin: -1px;overflow: hidden;padding: 0;position: absolute;width: 1px;}#sk-container-id-1 div.sk-estimator {font-family: monospace;background-color: #f0f8ff;border: 1px dotted black;border-radius: 0.25em;box-sizing: border-box;margin-bottom: 0.5em;}#sk-container-id-1 div.sk-estimator:hover {background-color: #d4ebff;}#sk-container-id-1 div.sk-parallel-item::after {content: \"\";width: 100%;border-bottom: 1px solid gray;flex-grow: 1;}#sk-container-id-1 div.sk-label:hover label.sk-toggleable__label {background-color: #d4ebff;}#sk-container-id-1 div.sk-serial::before {content: \"\";position: absolute;border-left: 1px solid gray;box-sizing: border-box;top: 0;bottom: 0;left: 50%;z-index: 0;}#sk-container-id-1 div.sk-serial {display: flex;flex-direction: column;align-items: center;background-color: white;padding-right: 0.2em;padding-left: 0.2em;position: relative;}#sk-container-id-1 div.sk-item {position: relative;z-index: 1;}#sk-container-id-1 div.sk-parallel {display: flex;align-items: stretch;justify-content: center;background-color: white;position: relative;}#sk-container-id-1 div.sk-item::before, #sk-container-id-1 div.sk-parallel-item::before {content: \"\";position: absolute;border-left: 1px solid gray;box-sizing: border-box;top: 0;bottom: 0;left: 50%;z-index: -1;}#sk-container-id-1 div.sk-parallel-item {display: flex;flex-direction: column;z-index: 1;position: relative;background-color: white;}#sk-container-id-1 div.sk-parallel-item:first-child::after {align-self: flex-end;width: 50%;}#sk-container-id-1 div.sk-parallel-item:last-child::after {align-self: flex-start;width: 50%;}#sk-container-id-1 div.sk-parallel-item:only-child::after {width: 0;}#sk-container-id-1 div.sk-dashed-wrapped {border: 1px dashed gray;margin: 0 0.4em 0.5em 0.4em;box-sizing: border-box;padding-bottom: 0.4em;background-color: white;}#sk-container-id-1 div.sk-label label {font-family: monospace;font-weight: bold;display: inline-block;line-height: 1.2em;}#sk-container-id-1 div.sk-label-container {text-align: center;}#sk-container-id-1 div.sk-container {/* jupyter's `normalize.less` sets `[hidden] { display: none; }` but bootstrap.min.css set `[hidden] { display: none !important; }` so we also need the `!important` here to be able to override the default hidden behavior on the sphinx rendered scikit-learn.org. See: https://github.com/scikit-learn/scikit-learn/issues/21755 */display: inline-block !important;position: relative;}#sk-container-id-1 div.sk-text-repr-fallback {display: none;}</style><div id=\"sk-container-id-1\" class=\"sk-top-container\"><div class=\"sk-text-repr-fallback\"><pre>LogisticRegression(max_iter=1000, random_state=42)</pre><b>In a Jupyter environment, please rerun this cell to show the HTML representation or trust the notebook. <br />On GitHub, the HTML representation is unable to render, please try loading this page with nbviewer.org.</b></div><div class=\"sk-container\" hidden><div class=\"sk-item\"><div class=\"sk-estimator sk-toggleable\"><input class=\"sk-toggleable__control sk-hidden--visually\" id=\"sk-estimator-id-1\" type=\"checkbox\" checked><label for=\"sk-estimator-id-1\" class=\"sk-toggleable__label sk-toggleable__label-arrow\">LogisticRegression</label><div class=\"sk-toggleable__content\"><pre>LogisticRegression(max_iter=1000, random_state=42)</pre></div></div></div></div></div>"
      ],
      "text/plain": [
       "LogisticRegression(max_iter=1000, random_state=42)"
      ]
     },
     "execution_count": 6,
     "metadata": {},
     "output_type": "execute_result"
    }
   ],
   "source": [
    "LogisticRegressionModel = LogisticRegression(solver='lbfgs',max_iter=1000,random_state=42)\n",
    "LogisticRegressionModel.fit(train_X_flat,train_y)"
   ]
  },
  {
   "cell_type": "code",
   "execution_count": 7,
   "id": "21172f41",
   "metadata": {},
   "outputs": [
    {
     "name": "stdout",
     "output_type": "stream",
     "text": [
      "LogisticRegressionModel Train Score is :  1.0\n",
      "LogisticRegressionModel Test Score is :  0.5439814814814815\n",
      "LogisticRegressionModel Classes are :  [0 1]\n",
      "LogisticRegressionModel No. of iterations is :  [874]\n"
     ]
    }
   ],
   "source": [
    "print('LogisticRegressionModel Train Score is : ' , LogisticRegressionModel.score(train_X_flat, train_y))\n",
    "print('LogisticRegressionModel Test Score is : ' , LogisticRegressionModel.score(test_X_flat, test_y))\n",
    "print('LogisticRegressionModel Classes are : ' , LogisticRegressionModel.classes_)\n",
    "print('LogisticRegressionModel No. of iterations is : ' , LogisticRegressionModel.n_iter_ )"
   ]
  },
  {
   "cell_type": "code",
   "execution_count": 8,
   "id": "4661720f",
   "metadata": {},
   "outputs": [
    {
     "name": "stdout",
     "output_type": "stream",
     "text": [
      "Predicted Value for LogisticRegression is :  [1 0 0 1 1 0 1 1 1 0]\n",
      "Prediction probabilities Value for LogisticRegressionModel is : \n",
      " [[4.35144083e-02 9.56485592e-01]\n",
      " [9.36326636e-01 6.36733638e-02]\n",
      " [9.62835576e-01 3.71644238e-02]\n",
      " [4.32403594e-01 5.67596406e-01]\n",
      " [8.00331774e-05 9.99919967e-01]\n",
      " [9.98138086e-01 1.86191385e-03]\n",
      " [4.88641193e-01 5.11358807e-01]\n",
      " [1.29455331e-03 9.98705447e-01]\n",
      " [4.90817754e-01 5.09182246e-01]\n",
      " [9.95426290e-01 4.57370996e-03]]\n"
     ]
    }
   ],
   "source": [
    "y_pred = LogisticRegressionModel.predict(test_X_flat)\n",
    "y_pred_prob = LogisticRegressionModel.predict_proba(test_X_flat)\n",
    "print('Predicted Value for LogisticRegression is : ', y_pred[:10])\n",
    "print('Prediction probabilities Value for LogisticRegressionModel is : \\n', y_pred_prob[:10])"
   ]
  },
  {
   "cell_type": "code",
   "execution_count": 9,
   "id": "92dcf55b",
   "metadata": {},
   "outputs": [
    {
     "name": "stdout",
     "output_type": "stream",
     "text": [
      "Accuracy: 0.5439814814814815\n",
      "Recall: 0.5416666666666666\n",
      "Precision: 0.5441860465116279\n",
      "F1_score: 0.5429234338747099\n"
     ]
    }
   ],
   "source": [
    "#evaluation_model\n",
    "accuracy = accuracy_score(test_y, y_pred)\n",
    "print('Accuracy:', accuracy)\n",
    "recall = recall_score(test_y, y_pred)\n",
    "print('Recall:', recall)\n",
    "precision = precision_score(test_y, y_pred)\n",
    "print('Precision:', precision)\n",
    "f1 = f1_score(test_y,y_pred)\n",
    "print('F1_score:', f1)"
   ]
  },
  {
   "cell_type": "code",
   "execution_count": 10,
   "id": "b6665be3",
   "metadata": {},
   "outputs": [],
   "source": [
    "threshold = 0.5\n",
    "\n",
    "y_pred_classes = np.where(y_pred >= threshold, 1, 0)\n",
    "\n",
    "conf_mat = confusion_matrix(test_y, y_pred_classes)"
   ]
  },
  {
   "cell_type": "code",
   "execution_count": 11,
   "id": "0410851c",
   "metadata": {},
   "outputs": [
    {
     "name": "stdout",
     "output_type": "stream",
     "text": [
      "Confusion Matrix is : \n",
      " [[118  98]\n",
      " [ 99 117]]\n"
     ]
    }
   ],
   "source": [
    "cm = confusion_matrix(test_y,y_pred_classes)\n",
    "print('Confusion Matrix is : \\n', cm)"
   ]
  },
  {
   "cell_type": "code",
   "execution_count": 12,
   "id": "87ad202d",
   "metadata": {
    "scrolled": true
   },
   "outputs": [
    {
     "data": {
      "image/png": "[encoded data removed]",
      "text/plain": [
       "<Figure size 500x500 with 2 Axes>"
      ]
     },
     "metadata": {},
     "output_type": "display_data"
    }
   ],
   "source": [
    "plt.figure(figsize=(5,5))\n",
    "sns.heatmap(cm, center= True, cmap=\"coolwarm\", annot=True, fmt='.2f',annot_kws={'size': 10})\n",
    "plt.xlabel(\"Predicted Labels\")\n",
    "plt.ylabel(\"Actual Labels\")\n",
    "plt.title(\"zero vs one \")\n",
    "plt.show()"
   ]
  },
  {
   "cell_type": "code",
   "execution_count": 13,
   "id": "ea177e7c",
   "metadata": {},
   "outputs": [
    {
     "name": "stdout",
     "output_type": "stream",
     "text": [
      "AUC score: 0.54\n"
     ]
    }
   ],
   "source": [
    "auc_score = roc_auc_score(test_y, y_pred_classes)\n",
    "\n",
    "\n",
    "print(\"AUC score: {:.2f}\".format(auc_score))"
   ]
  }
 ],
 "metadata": {
  "kernelspec": {
   "display_name": "Python 3 (ipykernel)",
   "language": "python",
   "name": "python3"
  },
  "language_info": {
   "codemirror_mode": {
    "name": "ipython",
    "version": 3
   },
   "file_extension": ".py",
   "mimetype": "text/x-python",
   "name": "python",
   "nbconvert_exporter": "python",
   "pygments_lexer": "ipython3",
   "version": "3.9.11"
  }
 },
 "nbformat": 4,
 "nbformat_minor": 5
}
